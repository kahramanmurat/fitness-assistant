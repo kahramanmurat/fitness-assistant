{
 "cells": [
  {
   "cell_type": "code",
   "execution_count": 36,
   "id": "1daa8572-7b15-4d37-8903-47ae22d0a7c4",
   "metadata": {},
   "outputs": [],
   "source": [
    "import pandas as pd"
   ]
  },
  {
   "cell_type": "code",
   "execution_count": 84,
   "id": "750d8268-0307-4235-867e-1de7669b4ca6",
   "metadata": {},
   "outputs": [],
   "source": [
    "df=pd.read_csv('data.csv')"
   ]
  },
  {
   "cell_type": "code",
   "execution_count": 85,
   "id": "1f86e024-c03b-404b-b994-87941bb0a198",
   "metadata": {},
   "outputs": [
    {
     "data": {
      "text/html": [
       "<div>\n",
       "<style scoped>\n",
       "    .dataframe tbody tr th:only-of-type {\n",
       "        vertical-align: middle;\n",
       "    }\n",
       "\n",
       "    .dataframe tbody tr th {\n",
       "        vertical-align: top;\n",
       "    }\n",
       "\n",
       "    .dataframe thead th {\n",
       "        text-align: right;\n",
       "    }\n",
       "</style>\n",
       "<table border=\"1\" class=\"dataframe\">\n",
       "  <thead>\n",
       "    <tr style=\"text-align: right;\">\n",
       "      <th></th>\n",
       "      <th>id</th>\n",
       "      <th>exercise_name</th>\n",
       "      <th>type_of_activity</th>\n",
       "      <th>type_of_equipment</th>\n",
       "      <th>body_part</th>\n",
       "      <th>type</th>\n",
       "      <th>muscle_groups_activated</th>\n",
       "      <th>instructions</th>\n",
       "    </tr>\n",
       "  </thead>\n",
       "  <tbody>\n",
       "    <tr>\n",
       "      <th>0</th>\n",
       "      <td>0</td>\n",
       "      <td>Push-Ups</td>\n",
       "      <td>Strength</td>\n",
       "      <td>Bodyweight</td>\n",
       "      <td>Upper Body</td>\n",
       "      <td>Push</td>\n",
       "      <td>Pectorals, Triceps, Deltoids</td>\n",
       "      <td>Start in a high plank position with your hands...</td>\n",
       "    </tr>\n",
       "    <tr>\n",
       "      <th>1</th>\n",
       "      <td>1</td>\n",
       "      <td>Squats</td>\n",
       "      <td>Strength</td>\n",
       "      <td>Bodyweight</td>\n",
       "      <td>Lower Body</td>\n",
       "      <td>Push</td>\n",
       "      <td>Quadriceps, Glutes, Hamstrings</td>\n",
       "      <td>Stand with feet shoulder-width apart. Lower yo...</td>\n",
       "    </tr>\n",
       "    <tr>\n",
       "      <th>2</th>\n",
       "      <td>2</td>\n",
       "      <td>Plank</td>\n",
       "      <td>Strength/Mobility</td>\n",
       "      <td>Bodyweight</td>\n",
       "      <td>Core</td>\n",
       "      <td>Hold</td>\n",
       "      <td>Rectus Abdominis, Transverse Abdominis</td>\n",
       "      <td>Start in a forearm plank position with your el...</td>\n",
       "    </tr>\n",
       "    <tr>\n",
       "      <th>3</th>\n",
       "      <td>3</td>\n",
       "      <td>Deadlift</td>\n",
       "      <td>Strength</td>\n",
       "      <td>Barbell</td>\n",
       "      <td>Lower Body</td>\n",
       "      <td>Pull</td>\n",
       "      <td>Glutes, Hamstrings, Lower Back</td>\n",
       "      <td>Stand with feet hip-width apart, barbell in fr...</td>\n",
       "    </tr>\n",
       "    <tr>\n",
       "      <th>4</th>\n",
       "      <td>4</td>\n",
       "      <td>Bicep Curls</td>\n",
       "      <td>Strength</td>\n",
       "      <td>Dumbbells</td>\n",
       "      <td>Upper Body</td>\n",
       "      <td>Pull</td>\n",
       "      <td>Biceps, Forearms</td>\n",
       "      <td>Stand with a dumbbell in each hand, arms fully...</td>\n",
       "    </tr>\n",
       "    <tr>\n",
       "      <th>...</th>\n",
       "      <td>...</td>\n",
       "      <td>...</td>\n",
       "      <td>...</td>\n",
       "      <td>...</td>\n",
       "      <td>...</td>\n",
       "      <td>...</td>\n",
       "      <td>...</td>\n",
       "      <td>...</td>\n",
       "    </tr>\n",
       "    <tr>\n",
       "      <th>202</th>\n",
       "      <td>202</td>\n",
       "      <td>Incline Dumbbell Row</td>\n",
       "      <td>Strength</td>\n",
       "      <td>Dumbbells</td>\n",
       "      <td>Upper Body</td>\n",
       "      <td>Pull</td>\n",
       "      <td>Latissimus Dorsi, Biceps</td>\n",
       "      <td>Lie face down on an incline bench with a dumbb...</td>\n",
       "    </tr>\n",
       "    <tr>\n",
       "      <th>203</th>\n",
       "      <td>203</td>\n",
       "      <td>Machine Lat Pulldown</td>\n",
       "      <td>Strength</td>\n",
       "      <td>Machine</td>\n",
       "      <td>Upper Body</td>\n",
       "      <td>Pull</td>\n",
       "      <td>Latissimus Dorsi, Biceps</td>\n",
       "      <td>Sit at a lat pulldown machine with a wide grip...</td>\n",
       "    </tr>\n",
       "    <tr>\n",
       "      <th>204</th>\n",
       "      <td>204</td>\n",
       "      <td>One-Arm Cable Row</td>\n",
       "      <td>Strength</td>\n",
       "      <td>Cable Machine</td>\n",
       "      <td>Upper Body</td>\n",
       "      <td>Pull</td>\n",
       "      <td>Latissimus Dorsi, Biceps</td>\n",
       "      <td>Stand facing a cable machine with the handle a...</td>\n",
       "    </tr>\n",
       "    <tr>\n",
       "      <th>205</th>\n",
       "      <td>205</td>\n",
       "      <td>Face Pull</td>\n",
       "      <td>Strength</td>\n",
       "      <td>Cable Machine</td>\n",
       "      <td>Upper Body</td>\n",
       "      <td>Pull</td>\n",
       "      <td>Rear Deltoids, Trapezius, Rhomboids</td>\n",
       "      <td>Attach a rope handle to a high cable pulley. P...</td>\n",
       "    </tr>\n",
       "    <tr>\n",
       "      <th>206</th>\n",
       "      <td>206</td>\n",
       "      <td>Dumbbell Bench Press</td>\n",
       "      <td>Strength</td>\n",
       "      <td>Dumbbells</td>\n",
       "      <td>Upper Body</td>\n",
       "      <td>Push</td>\n",
       "      <td>Pectorals, Triceps, Deltoids</td>\n",
       "      <td>Lie on a bench with a dumbbell in each hand. P...</td>\n",
       "    </tr>\n",
       "  </tbody>\n",
       "</table>\n",
       "<p>207 rows × 8 columns</p>\n",
       "</div>"
      ],
      "text/plain": [
       "      id         exercise_name   type_of_activity type_of_equipment  \\\n",
       "0      0              Push-Ups           Strength        Bodyweight   \n",
       "1      1                Squats           Strength        Bodyweight   \n",
       "2      2                 Plank  Strength/Mobility        Bodyweight   \n",
       "3      3              Deadlift           Strength           Barbell   \n",
       "4      4           Bicep Curls           Strength         Dumbbells   \n",
       "..   ...                   ...                ...               ...   \n",
       "202  202  Incline Dumbbell Row           Strength         Dumbbells   \n",
       "203  203  Machine Lat Pulldown           Strength           Machine   \n",
       "204  204     One-Arm Cable Row           Strength     Cable Machine   \n",
       "205  205             Face Pull           Strength     Cable Machine   \n",
       "206  206  Dumbbell Bench Press           Strength         Dumbbells   \n",
       "\n",
       "      body_part  type                 muscle_groups_activated  \\\n",
       "0    Upper Body  Push            Pectorals, Triceps, Deltoids   \n",
       "1    Lower Body  Push          Quadriceps, Glutes, Hamstrings   \n",
       "2          Core  Hold  Rectus Abdominis, Transverse Abdominis   \n",
       "3    Lower Body  Pull          Glutes, Hamstrings, Lower Back   \n",
       "4    Upper Body  Pull                        Biceps, Forearms   \n",
       "..          ...   ...                                     ...   \n",
       "202  Upper Body  Pull                Latissimus Dorsi, Biceps   \n",
       "203  Upper Body  Pull                Latissimus Dorsi, Biceps   \n",
       "204  Upper Body  Pull                Latissimus Dorsi, Biceps   \n",
       "205  Upper Body  Pull     Rear Deltoids, Trapezius, Rhomboids   \n",
       "206  Upper Body  Push            Pectorals, Triceps, Deltoids   \n",
       "\n",
       "                                          instructions  \n",
       "0    Start in a high plank position with your hands...  \n",
       "1    Stand with feet shoulder-width apart. Lower yo...  \n",
       "2    Start in a forearm plank position with your el...  \n",
       "3    Stand with feet hip-width apart, barbell in fr...  \n",
       "4    Stand with a dumbbell in each hand, arms fully...  \n",
       "..                                                 ...  \n",
       "202  Lie face down on an incline bench with a dumbb...  \n",
       "203  Sit at a lat pulldown machine with a wide grip...  \n",
       "204  Stand facing a cable machine with the handle a...  \n",
       "205  Attach a rope handle to a high cable pulley. P...  \n",
       "206  Lie on a bench with a dumbbell in each hand. P...  \n",
       "\n",
       "[207 rows x 8 columns]"
      ]
     },
     "execution_count": 85,
     "metadata": {},
     "output_type": "execute_result"
    }
   ],
   "source": [
    "df"
   ]
  },
  {
   "cell_type": "code",
   "execution_count": 7,
   "id": "61d7f949-5e21-40a0-94ed-699969595dcc",
   "metadata": {},
   "outputs": [
    {
     "name": "stdout",
     "output_type": "stream",
     "text": [
      "--2024-08-28 03:23:40--  https://raw.githubusercontent.com/alexeygrigorev/minsearch/main/minsearch.py\n",
      "Resolving raw.githubusercontent.com (raw.githubusercontent.com)... 185.199.109.133, 185.199.110.133, 185.199.111.133, ...\n",
      "Connecting to raw.githubusercontent.com (raw.githubusercontent.com)|185.199.109.133|:443... connected.\n",
      "HTTP request sent, awaiting response... 200 OK\n",
      "Length: 3832 (3.7K) [text/plain]\n",
      "Saving to: ‘minsearch.py’\n",
      "\n",
      "minsearch.py        100%[===================>]   3.74K  --.-KB/s    in 0s      \n",
      "\n",
      "2024-08-28 03:23:41 (33.3 MB/s) - ‘minsearch.py’ saved [3832/3832]\n",
      "\n"
     ]
    }
   ],
   "source": [
    "!wget https://raw.githubusercontent.com/alexeygrigorev/minsearch/main/minsearch.py"
   ]
  },
  {
   "cell_type": "code",
   "execution_count": 86,
   "id": "03f9a05f-786c-4b9a-89e7-5befaf25206c",
   "metadata": {},
   "outputs": [
    {
     "data": {
      "text/plain": [
       "Index(['id', 'exercise_name', 'type_of_activity', 'type_of_equipment',\n",
       "       'body_part', 'type', 'muscle_groups_activated', 'instructions'],\n",
       "      dtype='object')"
      ]
     },
     "execution_count": 86,
     "metadata": {},
     "output_type": "execute_result"
    }
   ],
   "source": [
    "df.columns"
   ]
  },
  {
   "cell_type": "code",
   "execution_count": 87,
   "id": "c7c8ea43-003a-4315-ba8b-816522c79c93",
   "metadata": {},
   "outputs": [],
   "source": [
    "documents=df.to_dict(orient='records')"
   ]
  },
  {
   "cell_type": "code",
   "execution_count": 88,
   "id": "f61e2b49-e581-40f9-b679-0dcd5c952f4d",
   "metadata": {},
   "outputs": [],
   "source": [
    "import minsearch"
   ]
  },
  {
   "cell_type": "code",
   "execution_count": 89,
   "id": "ce75e527-0ce0-4e24-8faf-609ca858e269",
   "metadata": {},
   "outputs": [],
   "source": [
    "index = minsearch.Index(\n",
    "    text_fields=['exercise_name', 'type_of_activity', 'type_of_equipment',\n",
    "       'body_part', 'type', 'muscle_groups_activated', 'instructions'],\n",
    "    keyword_fields=['id']\n",
    ")"
   ]
  },
  {
   "cell_type": "code",
   "execution_count": 90,
   "id": "bcb7587d-3a12-470d-be4f-1d542de8d379",
   "metadata": {},
   "outputs": [
    {
     "data": {
      "text/plain": [
       "<minsearch.Index at 0x7976b747c290>"
      ]
     },
     "execution_count": 90,
     "metadata": {},
     "output_type": "execute_result"
    }
   ],
   "source": [
    "index.fit(documents)"
   ]
  },
  {
   "cell_type": "code",
   "execution_count": 91,
   "id": "9d115947-01e7-4f1d-81aa-d07fe381257f",
   "metadata": {},
   "outputs": [],
   "source": [
    "query='give me leg exercises for hamstrings'"
   ]
  },
  {
   "cell_type": "code",
   "execution_count": 92,
   "id": "a38e3d9e-5235-4df0-a77c-d07976acf4c6",
   "metadata": {},
   "outputs": [],
   "source": [
    "def search(query):\n",
    "    boost = {}\n",
    "\n",
    "    results = index.search(\n",
    "        query=query,\n",
    "        filter_dict={},\n",
    "        boost_dict=boost,\n",
    "        num_results=10\n",
    "    )\n",
    "\n",
    "    return results"
   ]
  },
  {
   "cell_type": "code",
   "execution_count": 93,
   "id": "eb7aaee9-a32c-428e-a556-2fb86445fabc",
   "metadata": {},
   "outputs": [],
   "source": [
    "import os"
   ]
  },
  {
   "cell_type": "code",
   "execution_count": 68,
   "id": "5e6bfc67-263f-47fe-8e4e-730bb0896068",
   "metadata": {},
   "outputs": [],
   "source": [
    "os.environ['OPENAI_API_KEY']=\"\""
   ]
  },
  {
   "cell_type": "code",
   "execution_count": 94,
   "id": "9a6148f0-154f-44c5-9600-42a77b87e949",
   "metadata": {},
   "outputs": [
    {
     "data": {
      "text/plain": [
       "[{'id': 118,\n",
       "  'exercise_name': 'Leg Curl',\n",
       "  'type_of_activity': 'Strength',\n",
       "  'type_of_equipment': 'Machine',\n",
       "  'body_part': 'Lower Body',\n",
       "  'type': 'Pull',\n",
       "  'muscle_groups_activated': 'Hamstrings',\n",
       "  'instructions': 'Lie face down on a leg curl machine and curl the pad towards your glutes, then return to the starting position.'},\n",
       " {'id': 95,\n",
       "  'exercise_name': 'Machine Leg Curl',\n",
       "  'type_of_activity': 'Strength',\n",
       "  'type_of_equipment': 'Machine',\n",
       "  'body_part': 'Lower Body',\n",
       "  'type': 'Pull',\n",
       "  'muscle_groups_activated': 'Hamstrings',\n",
       "  'instructions': 'Sit on a leg curl machine and curl the pad down towards your glutes, then return to the starting position.'},\n",
       " {'id': 109,\n",
       "  'exercise_name': 'Seated Leg Curl',\n",
       "  'type_of_activity': 'Strength',\n",
       "  'type_of_equipment': 'Machine',\n",
       "  'body_part': 'Lower Body',\n",
       "  'type': 'Pull',\n",
       "  'muscle_groups_activated': 'Hamstrings',\n",
       "  'instructions': 'Sit on a leg curl machine and curl the pad down towards your glutes, then return to the starting position.'},\n",
       " {'id': 140,\n",
       "  'exercise_name': 'Lying Leg Curl',\n",
       "  'type_of_activity': 'Strength',\n",
       "  'type_of_equipment': 'Machine',\n",
       "  'body_part': 'Lower Body',\n",
       "  'type': 'Pull',\n",
       "  'muscle_groups_activated': 'Hamstrings',\n",
       "  'instructions': 'Lie face down on a leg curl machine and curl the pad towards your glutes, then return to the starting position.'},\n",
       " {'id': 164,\n",
       "  'exercise_name': 'Prone Leg Curl',\n",
       "  'type_of_activity': 'Strength',\n",
       "  'type_of_equipment': 'Machine',\n",
       "  'body_part': 'Lower Body',\n",
       "  'type': 'Pull',\n",
       "  'muscle_groups_activated': 'Hamstrings',\n",
       "  'instructions': 'Lie face down on a leg curl machine and curl the pad towards your glutes, then return to the starting position.'},\n",
       " {'id': 38,\n",
       "  'exercise_name': 'Leg Press',\n",
       "  'type_of_activity': 'Strength',\n",
       "  'type_of_equipment': 'Machine',\n",
       "  'body_part': 'Lower Body',\n",
       "  'type': 'Push',\n",
       "  'muscle_groups_activated': 'Quadriceps, Glutes, Hamstrings',\n",
       "  'instructions': 'Sit on a leg press machine with your feet shoulder-width apart on the platform. Push the platform away by extending your legs.'},\n",
       " {'id': 157,\n",
       "  'exercise_name': 'Single-Leg Squat',\n",
       "  'type_of_activity': 'Strength',\n",
       "  'type_of_equipment': 'Bodyweight',\n",
       "  'body_part': 'Lower Body',\n",
       "  'type': 'Push',\n",
       "  'muscle_groups_activated': 'Quadriceps, Glutes, Hamstrings',\n",
       "  'instructions': 'Stand on one leg with the other leg extended in front of you. Lower your hips until your thigh is parallel to the floor, then push back up.'},\n",
       " {'id': 93,\n",
       "  'exercise_name': 'Single-Leg Glute Bridge',\n",
       "  'type_of_activity': 'Strength',\n",
       "  'type_of_equipment': 'Bodyweight',\n",
       "  'body_part': 'Lower Body',\n",
       "  'type': 'Push',\n",
       "  'muscle_groups_activated': 'Glutes, Hamstrings',\n",
       "  'instructions': 'Lie on your back with one foot on the ground and the other leg extended. Lift your hips towards the ceiling.'},\n",
       " {'id': 8,\n",
       "  'exercise_name': 'Hamstring Stretch',\n",
       "  'type_of_activity': 'Mobility',\n",
       "  'type_of_equipment': 'Bodyweight',\n",
       "  'body_part': 'Lower Body',\n",
       "  'type': 'Stretch',\n",
       "  'muscle_groups_activated': 'Hamstrings',\n",
       "  'instructions': 'Stand upright and place one heel on a bench or step. Lean forward slightly to feel a stretch in the hamstring of the elevated leg.'},\n",
       " {'id': 40,\n",
       "  'exercise_name': 'Single-Leg Deadlift',\n",
       "  'type_of_activity': 'Strength',\n",
       "  'type_of_equipment': 'Dumbbells',\n",
       "  'body_part': 'Lower Body',\n",
       "  'type': 'Pull',\n",
       "  'muscle_groups_activated': 'Hamstrings, Glutes, Lower Back',\n",
       "  'instructions': 'Stand on one leg, holding a dumbbell in the opposite hand. Bend at the hips to lower the weight while extending the free leg behind you.'}]"
      ]
     },
     "execution_count": 94,
     "metadata": {},
     "output_type": "execute_result"
    }
   ],
   "source": [
    "index.search(query,num_results=10)"
   ]
  },
  {
   "cell_type": "code",
   "execution_count": 95,
   "id": "cd81f52d-a4e9-45f1-84e7-2bad38a5c86e",
   "metadata": {},
   "outputs": [],
   "source": [
    "from openai import OpenAI\n",
    "\n",
    "client = OpenAI()"
   ]
  },
  {
   "cell_type": "code",
   "execution_count": 96,
   "id": "fe997a68-fa9a-46c7-a9b2-8487a91a249f",
   "metadata": {},
   "outputs": [
    {
     "data": {
      "text/plain": [
       "{'id': 0,\n",
       " 'exercise_name': 'Push-Ups',\n",
       " 'type_of_activity': 'Strength',\n",
       " 'type_of_equipment': 'Bodyweight',\n",
       " 'body_part': 'Upper Body',\n",
       " 'type': 'Push',\n",
       " 'muscle_groups_activated': 'Pectorals, Triceps, Deltoids',\n",
       " 'instructions': 'Start in a high plank position with your hands under your shoulders. Lower your body until your chest nearly touches the floor. Push back up to the starting position.'}"
      ]
     },
     "execution_count": 96,
     "metadata": {},
     "output_type": "execute_result"
    }
   ],
   "source": [
    "documents[0]"
   ]
  },
  {
   "cell_type": "code",
   "execution_count": 97,
   "id": "7c77ff9e-468c-4eff-8ba2-33f7dc264e8a",
   "metadata": {},
   "outputs": [],
   "source": [
    "prompt_template = \"\"\"\n",
    "You're a fitness insrtuctor. Answer the QUESTION based on the CONTEXT from our exercises database.\n",
    "Use only the facts from the CONTEXT when answering the QUESTION.\n",
    "\n",
    "QUESTION: {question}\n",
    "\n",
    "CONTEXT:\n",
    "{context}\n",
    "\"\"\".strip()\n",
    "\n",
    "entry_template = \"\"\"\n",
    "exercise_name: {exercise_name}\n",
    "type_of_activity: {type_of_activity}\n",
    "type_of_equipment: {type_of_equipment}\n",
    "body_part: {body_part}\n",
    "type: {type}\n",
    "muscle_groups_activated: {muscle_groups_activated}\n",
    "instructions: {instructions}\n",
    "\"\"\".strip()\n",
    "\n",
    "def build_prompt(query, search_results):\n",
    "    context = \"\"\n",
    "    \n",
    "    for doc in search_results:\n",
    "        context = context + entry_template.format(**doc) + \"\\n\\n\"\n",
    "\n",
    "    prompt = prompt_template.format(question=query, context=context).strip()\n",
    "    return prompt"
   ]
  },
  {
   "cell_type": "code",
   "execution_count": 98,
   "id": "5e1f6925-d2db-44df-8fb4-58c95fcf3cf9",
   "metadata": {},
   "outputs": [],
   "source": [
    "search_results=search(query)"
   ]
  },
  {
   "cell_type": "code",
   "execution_count": 99,
   "id": "b4e3dec5-cd67-4498-8bd7-76830c8691a0",
   "metadata": {},
   "outputs": [],
   "source": [
    "prompt=build_prompt(query,search_results)"
   ]
  },
  {
   "cell_type": "code",
   "execution_count": 100,
   "id": "6e0f957c-79da-43b9-bedd-ab3e278114a7",
   "metadata": {},
   "outputs": [],
   "source": [
    "def llm(prompt, model='gpt-4o-mini'):\n",
    "    response = client.chat.completions.create(\n",
    "        model=model,\n",
    "        messages=[{\"role\": \"user\", \"content\": prompt}]\n",
    "    )\n",
    "    \n",
    "    return response.choices[0].message.content"
   ]
  },
  {
   "cell_type": "code",
   "execution_count": 101,
   "id": "63972531-0dd9-4b40-9449-b8ddc34b71a2",
   "metadata": {},
   "outputs": [],
   "source": [
    "def rag(query, model='gpt-4o-mini'):\n",
    "    search_results = search(query)\n",
    "    prompt = build_prompt(query, search_results)\n",
    "    #print(prompt)\n",
    "    answer = llm(prompt, model=model)\n",
    "    return answer"
   ]
  },
  {
   "cell_type": "code",
   "execution_count": 102,
   "id": "6c53511e-a7dd-4e21-8984-212377866873",
   "metadata": {},
   "outputs": [
    {
     "name": "stdout",
     "output_type": "stream",
     "text": [
      "Yes, the Lat Pulldown is considered a strength training activity. This is because it is designed to target specific muscle groups, particularly the Latissimus Dorsi and Biceps, by using resistance through a machine. Strength training activities focus on building muscle strength and endurance, which is exactly what the Lat Pulldown accomplishes by requiring the activation of these upper body muscles during the pulling motion.\n"
     ]
    }
   ],
   "source": [
    "question = 'Is the Lat Pulldown considered a strength training activity, and if so, why?'\n",
    "answer = rag(question)\n",
    "print(answer)"
   ]
  },
  {
   "cell_type": "code",
   "execution_count": 103,
   "id": "568bdde0-1eae-4571-a4bf-50e0fb3a8d67",
   "metadata": {},
   "outputs": [],
   "source": [
    "df_question = pd.read_csv('../data/ground-truth-retrieval.csv')"
   ]
  },
  {
   "cell_type": "code",
   "execution_count": 104,
   "id": "68801fca-f5cf-411d-b467-ecf685d81af7",
   "metadata": {},
   "outputs": [
    {
     "data": {
      "text/html": [
       "<div>\n",
       "<style scoped>\n",
       "    .dataframe tbody tr th:only-of-type {\n",
       "        vertical-align: middle;\n",
       "    }\n",
       "\n",
       "    .dataframe tbody tr th {\n",
       "        vertical-align: top;\n",
       "    }\n",
       "\n",
       "    .dataframe thead th {\n",
       "        text-align: right;\n",
       "    }\n",
       "</style>\n",
       "<table border=\"1\" class=\"dataframe\">\n",
       "  <thead>\n",
       "    <tr style=\"text-align: right;\">\n",
       "      <th></th>\n",
       "      <th>id</th>\n",
       "      <th>question</th>\n",
       "    </tr>\n",
       "  </thead>\n",
       "  <tbody>\n",
       "    <tr>\n",
       "      <th>0</th>\n",
       "      <td>0</td>\n",
       "      <td>What is the starting position for Push-Ups?</td>\n",
       "    </tr>\n",
       "    <tr>\n",
       "      <th>1</th>\n",
       "      <td>0</td>\n",
       "      <td>Which muscle groups are activated during Push-...</td>\n",
       "    </tr>\n",
       "    <tr>\n",
       "      <th>2</th>\n",
       "      <td>0</td>\n",
       "      <td>Do I need any equipment to perform Push-Ups?</td>\n",
       "    </tr>\n",
       "    <tr>\n",
       "      <th>3</th>\n",
       "      <td>0</td>\n",
       "      <td>How do I properly lower my body during Push-Ups?</td>\n",
       "    </tr>\n",
       "    <tr>\n",
       "      <th>4</th>\n",
       "      <td>0</td>\n",
       "      <td>What body part is primarily worked by doing Pu...</td>\n",
       "    </tr>\n",
       "  </tbody>\n",
       "</table>\n",
       "</div>"
      ],
      "text/plain": [
       "   id                                           question\n",
       "0   0        What is the starting position for Push-Ups?\n",
       "1   0  Which muscle groups are activated during Push-...\n",
       "2   0       Do I need any equipment to perform Push-Ups?\n",
       "3   0   How do I properly lower my body during Push-Ups?\n",
       "4   0  What body part is primarily worked by doing Pu..."
      ]
     },
     "execution_count": 104,
     "metadata": {},
     "output_type": "execute_result"
    }
   ],
   "source": [
    "df_question.head()"
   ]
  },
  {
   "cell_type": "code",
   "execution_count": 105,
   "id": "7cb64ab9-2f91-4fcf-b578-4af7982f7033",
   "metadata": {},
   "outputs": [],
   "source": [
    "ground_truth = df_question.to_dict(orient='records')"
   ]
  },
  {
   "cell_type": "code",
   "execution_count": 106,
   "id": "891cf81e-dc52-404b-8374-87ff02c3b1ca",
   "metadata": {},
   "outputs": [
    {
     "data": {
      "text/plain": [
       "{'id': 0, 'question': 'What is the starting position for Push-Ups?'}"
      ]
     },
     "execution_count": 106,
     "metadata": {},
     "output_type": "execute_result"
    }
   ],
   "source": [
    "ground_truth[0]"
   ]
  },
  {
   "cell_type": "code",
   "execution_count": 107,
   "id": "6f0e2e98-db07-48ed-89c4-9e12dbad3671",
   "metadata": {},
   "outputs": [],
   "source": [
    "def hit_rate(relevance_total):\n",
    "    cnt = 0\n",
    "\n",
    "    for line in relevance_total:\n",
    "        if True in line:\n",
    "            cnt = cnt + 1\n",
    "\n",
    "    return cnt / len(relevance_total)\n",
    "\n",
    "def mrr(relevance_total):\n",
    "    total_score = 0.0\n",
    "\n",
    "    for line in relevance_total:\n",
    "        for rank in range(len(line)):\n",
    "            if line[rank] == True:\n",
    "                total_score = total_score + 1 / (rank + 1)\n",
    "\n",
    "    return total_score / len(relevance_total)"
   ]
  },
  {
   "cell_type": "code",
   "execution_count": 108,
   "id": "aa7c9110-3e8b-4490-a030-fbb187f59c90",
   "metadata": {},
   "outputs": [],
   "source": [
    "def minsearch_search(query):\n",
    "    boost = {}\n",
    "\n",
    "    results = index.search(\n",
    "        query=query,\n",
    "        filter_dict={},\n",
    "        boost_dict=boost,\n",
    "        num_results=10\n",
    "    )\n",
    "\n",
    "    return results"
   ]
  },
  {
   "cell_type": "code",
   "execution_count": 109,
   "id": "37ccb2a7-3efb-441e-b203-7271374e1024",
   "metadata": {},
   "outputs": [],
   "source": [
    "def evaluate(ground_truth, search_function):\n",
    "    relevance_total = []\n",
    "\n",
    "    for q in tqdm(ground_truth):\n",
    "        doc_id = q['id']\n",
    "        results = search_function(q)\n",
    "        relevance = [d['id'] == doc_id for d in results]\n",
    "        relevance_total.append(relevance)\n",
    "\n",
    "    return {\n",
    "        'hit_rate': hit_rate(relevance_total),\n",
    "        'mrr': mrr(relevance_total),\n",
    "    }"
   ]
  },
  {
   "cell_type": "code",
   "execution_count": 110,
   "id": "8a70e8fe-d365-4340-9a3d-ca46a56d834b",
   "metadata": {},
   "outputs": [],
   "source": [
    "from tqdm.auto import tqdm"
   ]
  },
  {
   "cell_type": "code",
   "execution_count": 111,
   "id": "61700ae9-08fe-4045-8085-68c38219ced0",
   "metadata": {},
   "outputs": [
    {
     "data": {
      "application/vnd.jupyter.widget-view+json": {
       "model_id": "6f080d4c09f54c21b6654c385dd7138d",
       "version_major": 2,
       "version_minor": 0
      },
      "text/plain": [
       "  0%|          | 0/1035 [00:00<?, ?it/s]"
      ]
     },
     "metadata": {},
     "output_type": "display_data"
    },
    {
     "data": {
      "text/plain": [
       "{'hit_rate': 0.9507246376811594, 'mrr': 0.8274254274978914}"
      ]
     },
     "execution_count": 111,
     "metadata": {},
     "output_type": "execute_result"
    }
   ],
   "source": [
    "evaluate(ground_truth, lambda q: minsearch_search(q['question']))"
   ]
  },
  {
   "cell_type": "code",
   "execution_count": 112,
   "id": "9047c2c7-8fbf-4888-b92f-8ce5cdd86aa8",
   "metadata": {},
   "outputs": [],
   "source": [
    "df_validation = df_question[:100]\n",
    "df_test = df_question[100:]"
   ]
  },
  {
   "cell_type": "code",
   "execution_count": 113,
   "id": "5f51eb76-abd4-49f1-89d3-f859b94baa4c",
   "metadata": {},
   "outputs": [],
   "source": [
    "import random\n",
    "\n",
    "def simple_optimize(param_ranges, objective_function, n_iterations=10):\n",
    "    best_params = None\n",
    "    best_score = float('-inf')  # Assuming we're minimizing. Use float('-inf') if maximizing.\n",
    "\n",
    "    for _ in range(n_iterations):\n",
    "        # Generate random parameters\n",
    "        current_params = {}\n",
    "        for param, (min_val, max_val) in param_ranges.items():\n",
    "            if isinstance(min_val, int) and isinstance(max_val, int):\n",
    "                current_params[param] = random.randint(min_val, max_val)\n",
    "            else:\n",
    "                current_params[param] = random.uniform(min_val, max_val)\n",
    "        \n",
    "        # Evaluate the objective function\n",
    "        current_score = objective_function(current_params)\n",
    "        \n",
    "        # Update best if current is better\n",
    "        if current_score > best_score:  # Change to > if maximizing\n",
    "            best_score = current_score\n",
    "            best_params = current_params\n",
    "    \n",
    "    return best_params, best_score"
   ]
  },
  {
   "cell_type": "code",
   "execution_count": 114,
   "id": "549f55a7-374f-490c-9ce3-ab478c05596a",
   "metadata": {},
   "outputs": [],
   "source": [
    "gt_val = df_validation.to_dict(orient='records')"
   ]
  },
  {
   "cell_type": "code",
   "execution_count": 115,
   "id": "ed60ced9-7f33-484b-835f-4e952b27457e",
   "metadata": {},
   "outputs": [],
   "source": [
    "def minsearch_search(query, boost=None):\n",
    "    if boost is None:\n",
    "        boost = {}\n",
    "\n",
    "    results = index.search(\n",
    "        query=query,\n",
    "        filter_dict={},\n",
    "        boost_dict=boost,\n",
    "        num_results=10\n",
    "    )\n",
    "\n",
    "    return results"
   ]
  },
  {
   "cell_type": "code",
   "execution_count": 116,
   "id": "14108adb-2377-4069-b1c6-4e1d019768e8",
   "metadata": {},
   "outputs": [],
   "source": [
    "param_ranges = {\n",
    "    'exercise_name': (0.0, 3.0),\n",
    "    'type_of_activity': (0.0, 3.0),\n",
    "    'type_of_equipment': (0.0, 3.0),\n",
    "    'body_part': (0.0, 3.0),\n",
    "    'type': (0.0, 3.0),\n",
    "    'muscle_groups_activated': (0.0, 3.0),\n",
    "    'instructions': (0.0, 3.0),\n",
    "}\n",
    "\n",
    "def objective(boost_params):\n",
    "    def search_function(q):\n",
    "        return minsearch_search(q['question'], boost_params)\n",
    "\n",
    "    results = evaluate(gt_val, search_function)\n",
    "    return results['mrr']"
   ]
  },
  {
   "cell_type": "code",
   "execution_count": 117,
   "id": "306205df-fbfe-4555-bf09-02edcb30c353",
   "metadata": {},
   "outputs": [
    {
     "data": {
      "application/vnd.jupyter.widget-view+json": {
       "model_id": "bceb8e341e31417599ef6ad819bfa89f",
       "version_major": 2,
       "version_minor": 0
      },
      "text/plain": [
       "  0%|          | 0/100 [00:00<?, ?it/s]"
      ]
     },
     "metadata": {},
     "output_type": "display_data"
    },
    {
     "data": {
      "application/vnd.jupyter.widget-view+json": {
       "model_id": "0f9d70609b5d4931ad9a55b80b2bfe1b",
       "version_major": 2,
       "version_minor": 0
      },
      "text/plain": [
       "  0%|          | 0/100 [00:00<?, ?it/s]"
      ]
     },
     "metadata": {},
     "output_type": "display_data"
    },
    {
     "data": {
      "application/vnd.jupyter.widget-view+json": {
       "model_id": "bbc5c746e3c64363ac1103053404dffc",
       "version_major": 2,
       "version_minor": 0
      },
      "text/plain": [
       "  0%|          | 0/100 [00:00<?, ?it/s]"
      ]
     },
     "metadata": {},
     "output_type": "display_data"
    },
    {
     "data": {
      "application/vnd.jupyter.widget-view+json": {
       "model_id": "50045f76fbd54e8399b85b8534b97a39",
       "version_major": 2,
       "version_minor": 0
      },
      "text/plain": [
       "  0%|          | 0/100 [00:00<?, ?it/s]"
      ]
     },
     "metadata": {},
     "output_type": "display_data"
    },
    {
     "data": {
      "application/vnd.jupyter.widget-view+json": {
       "model_id": "6488cd26537141dfa301f74962f6dbde",
       "version_major": 2,
       "version_minor": 0
      },
      "text/plain": [
       "  0%|          | 0/100 [00:00<?, ?it/s]"
      ]
     },
     "metadata": {},
     "output_type": "display_data"
    },
    {
     "data": {
      "application/vnd.jupyter.widget-view+json": {
       "model_id": "5034bc57b2aa427cbd1d5ebd6d9179fc",
       "version_major": 2,
       "version_minor": 0
      },
      "text/plain": [
       "  0%|          | 0/100 [00:00<?, ?it/s]"
      ]
     },
     "metadata": {},
     "output_type": "display_data"
    },
    {
     "data": {
      "application/vnd.jupyter.widget-view+json": {
       "model_id": "48343b9d7e35493681c2eb3b9253993f",
       "version_major": 2,
       "version_minor": 0
      },
      "text/plain": [
       "  0%|          | 0/100 [00:00<?, ?it/s]"
      ]
     },
     "metadata": {},
     "output_type": "display_data"
    },
    {
     "data": {
      "application/vnd.jupyter.widget-view+json": {
       "model_id": "a05ed895e187419398152b6caecb29ed",
       "version_major": 2,
       "version_minor": 0
      },
      "text/plain": [
       "  0%|          | 0/100 [00:00<?, ?it/s]"
      ]
     },
     "metadata": {},
     "output_type": "display_data"
    },
    {
     "data": {
      "application/vnd.jupyter.widget-view+json": {
       "model_id": "8a7867810ec9462ea1846b5afaa1cb3c",
       "version_major": 2,
       "version_minor": 0
      },
      "text/plain": [
       "  0%|          | 0/100 [00:00<?, ?it/s]"
      ]
     },
     "metadata": {},
     "output_type": "display_data"
    },
    {
     "data": {
      "application/vnd.jupyter.widget-view+json": {
       "model_id": "0a1bbf6b26b145b9aee34dff84d8f75f",
       "version_major": 2,
       "version_minor": 0
      },
      "text/plain": [
       "  0%|          | 0/100 [00:00<?, ?it/s]"
      ]
     },
     "metadata": {},
     "output_type": "display_data"
    },
    {
     "data": {
      "application/vnd.jupyter.widget-view+json": {
       "model_id": "231405cbf90542349c74fa01dfaaf2d9",
       "version_major": 2,
       "version_minor": 0
      },
      "text/plain": [
       "  0%|          | 0/100 [00:00<?, ?it/s]"
      ]
     },
     "metadata": {},
     "output_type": "display_data"
    },
    {
     "data": {
      "application/vnd.jupyter.widget-view+json": {
       "model_id": "392455455cc4429da002327ef110cfb9",
       "version_major": 2,
       "version_minor": 0
      },
      "text/plain": [
       "  0%|          | 0/100 [00:00<?, ?it/s]"
      ]
     },
     "metadata": {},
     "output_type": "display_data"
    },
    {
     "data": {
      "application/vnd.jupyter.widget-view+json": {
       "model_id": "61d3d47259b748aead90cf6dbf0a0253",
       "version_major": 2,
       "version_minor": 0
      },
      "text/plain": [
       "  0%|          | 0/100 [00:00<?, ?it/s]"
      ]
     },
     "metadata": {},
     "output_type": "display_data"
    },
    {
     "data": {
      "application/vnd.jupyter.widget-view+json": {
       "model_id": "e2b2884df8b040bf9fffd8e522d95deb",
       "version_major": 2,
       "version_minor": 0
      },
      "text/plain": [
       "  0%|          | 0/100 [00:00<?, ?it/s]"
      ]
     },
     "metadata": {},
     "output_type": "display_data"
    },
    {
     "data": {
      "application/vnd.jupyter.widget-view+json": {
       "model_id": "4886b30ef7f943498690633a22a64121",
       "version_major": 2,
       "version_minor": 0
      },
      "text/plain": [
       "  0%|          | 0/100 [00:00<?, ?it/s]"
      ]
     },
     "metadata": {},
     "output_type": "display_data"
    },
    {
     "data": {
      "application/vnd.jupyter.widget-view+json": {
       "model_id": "c5f8c2a425f04dcf811d1bacf3be4d10",
       "version_major": 2,
       "version_minor": 0
      },
      "text/plain": [
       "  0%|          | 0/100 [00:00<?, ?it/s]"
      ]
     },
     "metadata": {},
     "output_type": "display_data"
    },
    {
     "data": {
      "application/vnd.jupyter.widget-view+json": {
       "model_id": "ad270711102745aab49d61371fd0dacd",
       "version_major": 2,
       "version_minor": 0
      },
      "text/plain": [
       "  0%|          | 0/100 [00:00<?, ?it/s]"
      ]
     },
     "metadata": {},
     "output_type": "display_data"
    },
    {
     "data": {
      "application/vnd.jupyter.widget-view+json": {
       "model_id": "a4407bcf37404d1e96d56a000bd166c8",
       "version_major": 2,
       "version_minor": 0
      },
      "text/plain": [
       "  0%|          | 0/100 [00:00<?, ?it/s]"
      ]
     },
     "metadata": {},
     "output_type": "display_data"
    },
    {
     "data": {
      "application/vnd.jupyter.widget-view+json": {
       "model_id": "90667cf5da0146b0840d7e920742857e",
       "version_major": 2,
       "version_minor": 0
      },
      "text/plain": [
       "  0%|          | 0/100 [00:00<?, ?it/s]"
      ]
     },
     "metadata": {},
     "output_type": "display_data"
    },
    {
     "data": {
      "application/vnd.jupyter.widget-view+json": {
       "model_id": "fbd4c6a8fd454b1688038d7747a8e559",
       "version_major": 2,
       "version_minor": 0
      },
      "text/plain": [
       "  0%|          | 0/100 [00:00<?, ?it/s]"
      ]
     },
     "metadata": {},
     "output_type": "display_data"
    },
    {
     "data": {
      "text/plain": [
       "({'exercise_name': 2.38558475435799,\n",
       "  'type_of_activity': 0.744238910261234,\n",
       "  'type_of_equipment': 1.2074974747547977,\n",
       "  'body_part': 2.542691577196546,\n",
       "  'type': 1.6541083300865198,\n",
       "  'muscle_groups_activated': 2.5281468184960323,\n",
       "  'instructions': 0.01773694114841562},\n",
       " 0.8812777777777778)"
      ]
     },
     "execution_count": 117,
     "metadata": {},
     "output_type": "execute_result"
    }
   ],
   "source": [
    "simple_optimize(param_ranges, objective, n_iterations=20)"
   ]
  },
  {
   "cell_type": "code",
   "execution_count": 118,
   "id": "2b3e9163-eadd-483d-834b-7a2e9fad2e02",
   "metadata": {},
   "outputs": [
    {
     "data": {
      "application/vnd.jupyter.widget-view+json": {
       "model_id": "9a08069b84a14fa19dd9cf7cefa72fca",
       "version_major": 2,
       "version_minor": 0
      },
      "text/plain": [
       "  0%|          | 0/1035 [00:00<?, ?it/s]"
      ]
     },
     "metadata": {},
     "output_type": "display_data"
    },
    {
     "data": {
      "text/plain": [
       "{'hit_rate': 0.9478260869565217, 'mrr': 0.9066471129514609}"
      ]
     },
     "execution_count": 118,
     "metadata": {},
     "output_type": "execute_result"
    }
   ],
   "source": [
    "def minsearch_improved(query):\n",
    "    boost = {\n",
    "        'exercise_name': 2.11,\n",
    "        'type_of_activity': 1.46,\n",
    "        'type_of_equipment': 0.65,\n",
    "        'body_part': 2.65,\n",
    "        'type': 1.31,\n",
    "        'muscle_groups_activated': 2.54,\n",
    "        'instructions': 0.74\n",
    "    }\n",
    "\n",
    "    results = index.search(\n",
    "        query=query,\n",
    "        filter_dict={},\n",
    "        boost_dict=boost,\n",
    "        num_results=10\n",
    "    )\n",
    "\n",
    "    return results\n",
    "\n",
    "evaluate(ground_truth, lambda q: minsearch_improved(q['question']))"
   ]
  },
  {
   "cell_type": "code",
   "execution_count": 119,
   "id": "28258c86-5456-4ee6-b655-aaf40b7594c2",
   "metadata": {},
   "outputs": [],
   "source": [
    "prompt2_template = \"\"\"\n",
    "You are an expert evaluator for a RAG system.\n",
    "Your task is to analyze the relevance of the generated answer to the given question.\n",
    "Based on the relevance of the generated answer, you will classify it\n",
    "as \"NON_RELEVANT\", \"PARTLY_RELEVANT\", or \"RELEVANT\".\n",
    "\n",
    "Here is the data for evaluation:\n",
    "\n",
    "Question: {question}\n",
    "Generated Answer: {answer_llm}\n",
    "\n",
    "Please analyze the content and context of the generated answer in relation to the question\n",
    "and provide your evaluation in parsable JSON without using code blocks:\n",
    "\n",
    "{{\n",
    "  \"Relevance\": \"NON_RELEVANT\" | \"PARTLY_RELEVANT\" | \"RELEVANT\",\n",
    "  \"Explanation\": \"[Provide a brief explanation for your evaluation]\"\n",
    "}}\n",
    "\"\"\".strip()"
   ]
  },
  {
   "cell_type": "code",
   "execution_count": 120,
   "id": "ded56dd5-f76a-4edd-8325-d5fdc490406a",
   "metadata": {},
   "outputs": [
    {
     "data": {
      "text/plain": [
       "1035"
      ]
     },
     "execution_count": 120,
     "metadata": {},
     "output_type": "execute_result"
    }
   ],
   "source": [
    "len(ground_truth)"
   ]
  },
  {
   "cell_type": "code",
   "execution_count": 123,
   "id": "bd6cda3e-d3cf-44e1-8090-f87d948a42d3",
   "metadata": {},
   "outputs": [],
   "source": [
    "record = ground_truth[0]\n",
    "question=record['question']\n",
    "answer_llm=rag(question)"
   ]
  },
  {
   "cell_type": "code",
   "execution_count": 124,
   "id": "5a385cef-08ca-4be6-907b-0a625d5579be",
   "metadata": {},
   "outputs": [
    {
     "name": "stdout",
     "output_type": "stream",
     "text": [
      "The starting position for Push-Ups is a high plank position with your hands under your shoulders.\n"
     ]
    }
   ],
   "source": [
    "print(answer_llm)"
   ]
  },
  {
   "cell_type": "code",
   "execution_count": 125,
   "id": "5e94b4ff-d28d-4afb-b92b-be3214d575bb",
   "metadata": {},
   "outputs": [
    {
     "name": "stdout",
     "output_type": "stream",
     "text": [
      "You are an expert evaluator for a RAG system.\n",
      "Your task is to analyze the relevance of the generated answer to the given question.\n",
      "Based on the relevance of the generated answer, you will classify it\n",
      "as \"NON_RELEVANT\", \"PARTLY_RELEVANT\", or \"RELEVANT\".\n",
      "\n",
      "Here is the data for evaluation:\n",
      "\n",
      "Question: What is the starting position for Push-Ups?\n",
      "Generated Answer: The starting position for Push-Ups is a high plank position with your hands under your shoulders.\n",
      "\n",
      "Please analyze the content and context of the generated answer in relation to the question\n",
      "and provide your evaluation in parsable JSON without using code blocks:\n",
      "\n",
      "{\n",
      "  \"Relevance\": \"NON_RELEVANT\" | \"PARTLY_RELEVANT\" | \"RELEVANT\",\n",
      "  \"Explanation\": \"[Provide a brief explanation for your evaluation]\"\n",
      "}\n"
     ]
    }
   ],
   "source": [
    "prompt = prompt2_template.format(question=question, answer_llm=answer_llm)\n",
    "print(prompt)"
   ]
  },
  {
   "cell_type": "code",
   "execution_count": 126,
   "id": "1666fd70-b2aa-45c9-af6a-8e6219f80cf1",
   "metadata": {},
   "outputs": [],
   "source": [
    "import json"
   ]
  },
  {
   "cell_type": "code",
   "execution_count": 127,
   "id": "77a55607-1929-48d7-86b5-63233290aab6",
   "metadata": {},
   "outputs": [],
   "source": [
    "df_sample = df_question.sample(n=200, random_state=1)"
   ]
  },
  {
   "cell_type": "code",
   "execution_count": 128,
   "id": "d1a057e6-f4f1-4a88-ae13-fa4b459f8057",
   "metadata": {},
   "outputs": [],
   "source": [
    "sample = df_sample.to_dict(orient='records')"
   ]
  },
  {
   "cell_type": "code",
   "execution_count": 129,
   "id": "fb23fa30-3fa3-4a6d-9bdd-3ff655460b2b",
   "metadata": {},
   "outputs": [
    {
     "data": {
      "application/vnd.jupyter.widget-view+json": {
       "model_id": "8f45f430ec80444985540f1fae3ac064",
       "version_major": 2,
       "version_minor": 0
      },
      "text/plain": [
       "  0%|          | 0/200 [00:00<?, ?it/s]"
      ]
     },
     "metadata": {},
     "output_type": "display_data"
    }
   ],
   "source": [
    "evaluations = []\n",
    "\n",
    "for record in tqdm(sample):\n",
    "    question = record['question']\n",
    "    answer_llm = rag(question) \n",
    "\n",
    "    prompt = prompt2_template.format(\n",
    "        question=question,\n",
    "        answer_llm=answer_llm\n",
    "    )\n",
    "\n",
    "    evaluation = llm(prompt)\n",
    "    evaluation = json.loads(evaluation)\n",
    "\n",
    "    evaluations.append((record, answer_llm, evaluation))"
   ]
  },
  {
   "cell_type": "code",
   "execution_count": 130,
   "id": "400716a8-2410-4887-9424-c9d823f5733e",
   "metadata": {},
   "outputs": [],
   "source": [
    "df_eval = pd.DataFrame(evaluations, columns=['record', 'answer', 'evaluation'])\n",
    "\n",
    "df_eval['id'] = df_eval.record.apply(lambda d: d['id'])\n",
    "df_eval['question'] = df_eval.record.apply(lambda d: d['question'])\n",
    "\n",
    "df_eval['relevance'] = df_eval.evaluation.apply(lambda d: d['Relevance'])\n",
    "df_eval['explanation'] = df_eval.evaluation.apply(lambda d: d['Explanation'])\n",
    "\n",
    "del df_eval['record']\n",
    "del df_eval['evaluation']"
   ]
  },
  {
   "cell_type": "code",
   "execution_count": 131,
   "id": "53421057-70d6-4dda-9f2c-aca4732af641",
   "metadata": {},
   "outputs": [
    {
     "data": {
      "text/plain": [
       "relevance\n",
       "RELEVANT           0.875\n",
       "PARTLY_RELEVANT    0.125\n",
       "Name: proportion, dtype: float64"
      ]
     },
     "execution_count": 131,
     "metadata": {},
     "output_type": "execute_result"
    }
   ],
   "source": [
    "df_eval.relevance.value_counts(normalize=True)"
   ]
  },
  {
   "cell_type": "code",
   "execution_count": 132,
   "id": "864a1ee4-4bc1-49bd-b0ca-2a215c6365a2",
   "metadata": {},
   "outputs": [],
   "source": [
    "df_eval.to_csv('../data/rag-eval-gpt-4o-mini.csv', index=False)"
   ]
  },
  {
   "cell_type": "code",
   "execution_count": 133,
   "id": "7daeabbb-70c3-4748-a4c9-c1d9a1b090af",
   "metadata": {},
   "outputs": [
    {
     "data": {
      "text/html": [
       "<div>\n",
       "<style scoped>\n",
       "    .dataframe tbody tr th:only-of-type {\n",
       "        vertical-align: middle;\n",
       "    }\n",
       "\n",
       "    .dataframe tbody tr th {\n",
       "        vertical-align: top;\n",
       "    }\n",
       "\n",
       "    .dataframe thead th {\n",
       "        text-align: right;\n",
       "    }\n",
       "</style>\n",
       "<table border=\"1\" class=\"dataframe\">\n",
       "  <thead>\n",
       "    <tr style=\"text-align: right;\">\n",
       "      <th></th>\n",
       "      <th>answer</th>\n",
       "      <th>id</th>\n",
       "      <th>question</th>\n",
       "      <th>relevance</th>\n",
       "      <th>explanation</th>\n",
       "    </tr>\n",
       "  </thead>\n",
       "  <tbody>\n",
       "  </tbody>\n",
       "</table>\n",
       "</div>"
      ],
      "text/plain": [
       "Empty DataFrame\n",
       "Columns: [answer, id, question, relevance, explanation]\n",
       "Index: []"
      ]
     },
     "execution_count": 133,
     "metadata": {},
     "output_type": "execute_result"
    }
   ],
   "source": [
    "df_eval[df_eval.relevance == 'NON_RELEVANT']"
   ]
  },
  {
   "cell_type": "code",
   "execution_count": 134,
   "id": "a0b88960-0c37-40d7-b24f-d041932bc7f3",
   "metadata": {},
   "outputs": [
    {
     "data": {
      "application/vnd.jupyter.widget-view+json": {
       "model_id": "929f48b60ee84d3abfc30c1d1f9340cf",
       "version_major": 2,
       "version_minor": 0
      },
      "text/plain": [
       "  0%|          | 0/200 [00:00<?, ?it/s]"
      ]
     },
     "metadata": {},
     "output_type": "display_data"
    }
   ],
   "source": [
    "evaluations_gpt4o = []\n",
    "\n",
    "for record in tqdm(sample):\n",
    "    question = record['question']\n",
    "    answer_llm = rag(question, model='gpt-4o') \n",
    "\n",
    "    prompt = prompt2_template.format(\n",
    "        question=question,\n",
    "        answer_llm=answer_llm\n",
    "    )\n",
    "\n",
    "    evaluation = llm(prompt)\n",
    "    evaluation = json.loads(evaluation)\n",
    "    \n",
    "    evaluations_gpt4o.append((record, answer_llm, evaluation))"
   ]
  },
  {
   "cell_type": "code",
   "execution_count": 135,
   "id": "4b39aac4-de05-4390-adb1-1cf2134f0d5f",
   "metadata": {},
   "outputs": [],
   "source": [
    "df_eval = pd.DataFrame(evaluations_gpt4o, columns=['record', 'answer', 'evaluation'])\n",
    "\n",
    "df_eval['id'] = df_eval.record.apply(lambda d: d['id'])\n",
    "df_eval['question'] = df_eval.record.apply(lambda d: d['question'])\n",
    "\n",
    "df_eval['relevance'] = df_eval.evaluation.apply(lambda d: d['Relevance'])\n",
    "df_eval['explanation'] = df_eval.evaluation.apply(lambda d: d['Explanation'])\n",
    "\n",
    "del df_eval['record']\n",
    "del df_eval['evaluation']"
   ]
  },
  {
   "cell_type": "code",
   "execution_count": 136,
   "id": "62f30b66-2ed5-4695-b8c4-c5764c2b6f99",
   "metadata": {},
   "outputs": [
    {
     "data": {
      "text/plain": [
       "relevance\n",
       "RELEVANT           181\n",
       "PARTLY_RELEVANT     19\n",
       "Name: count, dtype: int64"
      ]
     },
     "execution_count": 136,
     "metadata": {},
     "output_type": "execute_result"
    }
   ],
   "source": [
    "df_eval.relevance.value_counts()"
   ]
  },
  {
   "cell_type": "code",
   "execution_count": 137,
   "id": "a4a78193-906f-4f80-8bcb-0ac8e87b4a64",
   "metadata": {},
   "outputs": [
    {
     "data": {
      "text/plain": [
       "relevance\n",
       "RELEVANT           0.905\n",
       "PARTLY_RELEVANT    0.095\n",
       "Name: proportion, dtype: float64"
      ]
     },
     "execution_count": 137,
     "metadata": {},
     "output_type": "execute_result"
    }
   ],
   "source": [
    "df_eval.relevance.value_counts(normalize=True)"
   ]
  },
  {
   "cell_type": "code",
   "execution_count": 138,
   "id": "34bf93ec-1528-48a1-8e5a-f07705090f18",
   "metadata": {},
   "outputs": [],
   "source": [
    "df_eval.to_csv('../data/rag-eval-gpt-4o.csv', index=False)"
   ]
  },
  {
   "cell_type": "code",
   "execution_count": null,
   "id": "dab75ece-3c46-44df-896f-040d507b78f5",
   "metadata": {},
   "outputs": [],
   "source": []
  }
 ],
 "metadata": {
  "kernelspec": {
   "display_name": "Python 3 (ipykernel)",
   "language": "python",
   "name": "python3"
  },
  "language_info": {
   "codemirror_mode": {
    "name": "ipython",
    "version": 3
   },
   "file_extension": ".py",
   "mimetype": "text/x-python",
   "name": "python",
   "nbconvert_exporter": "python",
   "pygments_lexer": "ipython3",
   "version": "3.12.1"
  }
 },
 "nbformat": 4,
 "nbformat_minor": 5
}
